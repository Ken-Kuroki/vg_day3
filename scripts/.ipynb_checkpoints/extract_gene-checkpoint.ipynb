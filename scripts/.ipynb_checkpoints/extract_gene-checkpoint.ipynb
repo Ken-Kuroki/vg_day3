{
 "cells": [
  {
   "cell_type": "code",
   "execution_count": 1,
   "metadata": {
    "collapsed": true
   },
   "outputs": [],
   "source": [
    "import glob\n",
    "import os\n",
    "\n",
    "import pandas as pd\n",
    "from Bio import SeqIO"
   ]
  },
  {
   "cell_type": "code",
   "execution_count": 2,
   "metadata": {
    "collapsed": true
   },
   "outputs": [],
   "source": [
    "genelists = glob.glob(\"../ncbi-genes/*\")\n",
    "geneseqs = glob.glob(\"../ncbi-whole-genomes/*\")"
   ]
  },
  {
   "cell_type": "code",
   "execution_count": 3,
   "metadata": {
    "collapsed": true
   },
   "outputs": [],
   "source": [
    "def getgeneseq(listfile, seqfile, gene):\n",
    "    start, end = getgenepos(listfile, gene)\n",
    "    seq = list(SeqIO.parse(seqfile, \"fasta\"))[0][start:end]\n",
    "    return seq\n",
    "\n",
    "def getgenepos(file, gene):\n",
    "    df = pd.read_csv(file, sep=\"\\t\")\n",
    "    df = df[(df[\"symbol\"] == gene) & (df[\"class\"] == \"protein_coding\")].head(1)\n",
    "    if len(df) == 0:\n",
    "        return 0,0\n",
    "    return int(df[\"start\"]), int(df[\"end\"])"
   ]
  },
  {
   "cell_type": "code",
   "execution_count": 4,
   "metadata": {
    "collapsed": true
   },
   "outputs": [],
   "source": [
    "def saveseq(lists, seqs, gene=\"gyrA\"):\n",
    "    with open(\"../genes/gene_{0}.fna\".format(gene), \"w\") as f:\n",
    "        for (listfile, seqfile) in zip(genelists, geneseqs):\n",
    "            seq = str(getgeneseq(listfile, seqfile, gene).seq)\n",
    "            if len(seq) != 0:\n",
    "                f.write(\">{0} {1}\\n\".format(gene, os.path.basename(listfile)))\n",
    "                f.write(seq + \"\\n\\n\")\n",
    "    "
   ]
  },
  {
   "cell_type": "code",
   "execution_count": 5,
   "metadata": {
    "collapsed": true
   },
   "outputs": [],
   "source": [
    "gene = \"gyrA\"\n",
    "if not os.path.exists(\"../genes/\"):\n",
    "    os.mkdir(\"../genes/\")\n",
    "\n",
    "saveseq(genelists, geneseqs, gene=gene)"
   ]
  },
  {
   "cell_type": "code",
   "execution_count": null,
   "metadata": {
    "collapsed": true
   },
   "outputs": [],
   "source": []
  }
 ],
 "metadata": {
  "anaconda-cloud": {},
  "kernelspec": {
   "display_name": "Python [conda env:anaconda3-4.2.0]",
   "language": "python",
   "name": "conda-env-anaconda3-4.2.0-py"
  },
  "language_info": {
   "codemirror_mode": {
    "name": "ipython",
    "version": 3
   },
   "file_extension": ".py",
   "mimetype": "text/x-python",
   "name": "python",
   "nbconvert_exporter": "python",
   "pygments_lexer": "ipython3",
   "version": "3.5.2"
  }
 },
 "nbformat": 4,
 "nbformat_minor": 1
}
